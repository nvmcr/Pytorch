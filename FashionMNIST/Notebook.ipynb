{
 "cells": [
  {
   "cell_type": "code",
   "execution_count": 1,
   "metadata": {},
   "outputs": [],
   "source": [
    "# Importing Libraries\n",
    "import torch\n",
    "from torch import nn\n",
    "\n",
    "from torchvision import datasets # Loading dataset from pytorch\n",
    "from torchvision.transforms import ToTensor\n",
    "from torch.utils.data import DataLoader\n",
    "from torchmetrics import Accuracy\n",
    "\n",
    "import matplotlib.pyplot as plt"
   ]
  },
  {
   "cell_type": "code",
   "execution_count": 2,
   "metadata": {},
   "outputs": [
    {
     "data": {
      "text/plain": [
       "'cuda'"
      ]
     },
     "execution_count": 2,
     "metadata": {},
     "output_type": "execute_result"
    }
   ],
   "source": [
    "device = 'cuda' if torch.cuda.is_available() else 'cpu'\n",
    "device"
   ]
  },
  {
   "attachments": {},
   "cell_type": "markdown",
   "metadata": {},
   "source": [
    "# Dataset Processing"
   ]
  },
  {
   "cell_type": "code",
   "execution_count": 3,
   "metadata": {},
   "outputs": [
    {
     "name": "stdout",
     "output_type": "stream",
     "text": [
      "Downloading http://fashion-mnist.s3-website.eu-central-1.amazonaws.com/train-images-idx3-ubyte.gz\n",
      "Downloading http://fashion-mnist.s3-website.eu-central-1.amazonaws.com/train-images-idx3-ubyte.gz to data/FashionMNIST/raw/train-images-idx3-ubyte.gz\n"
     ]
    },
    {
     "name": "stderr",
     "output_type": "stream",
     "text": [
      "100.0%\n"
     ]
    },
    {
     "name": "stdout",
     "output_type": "stream",
     "text": [
      "Extracting data/FashionMNIST/raw/train-images-idx3-ubyte.gz to data/FashionMNIST/raw\n",
      "\n",
      "Downloading http://fashion-mnist.s3-website.eu-central-1.amazonaws.com/train-labels-idx1-ubyte.gz\n",
      "Downloading http://fashion-mnist.s3-website.eu-central-1.amazonaws.com/train-labels-idx1-ubyte.gz to data/FashionMNIST/raw/train-labels-idx1-ubyte.gz\n"
     ]
    },
    {
     "name": "stderr",
     "output_type": "stream",
     "text": [
      "100.0%\n"
     ]
    },
    {
     "name": "stdout",
     "output_type": "stream",
     "text": [
      "Extracting data/FashionMNIST/raw/train-labels-idx1-ubyte.gz to data/FashionMNIST/raw\n",
      "\n",
      "Downloading http://fashion-mnist.s3-website.eu-central-1.amazonaws.com/t10k-images-idx3-ubyte.gz\n",
      "Downloading http://fashion-mnist.s3-website.eu-central-1.amazonaws.com/t10k-images-idx3-ubyte.gz to data/FashionMNIST/raw/t10k-images-idx3-ubyte.gz\n"
     ]
    },
    {
     "name": "stderr",
     "output_type": "stream",
     "text": [
      "100.0%\n"
     ]
    },
    {
     "name": "stdout",
     "output_type": "stream",
     "text": [
      "Extracting data/FashionMNIST/raw/t10k-images-idx3-ubyte.gz to data/FashionMNIST/raw\n",
      "\n",
      "Downloading http://fashion-mnist.s3-website.eu-central-1.amazonaws.com/t10k-labels-idx1-ubyte.gz\n",
      "Downloading http://fashion-mnist.s3-website.eu-central-1.amazonaws.com/t10k-labels-idx1-ubyte.gz to data/FashionMNIST/raw/t10k-labels-idx1-ubyte.gz\n"
     ]
    },
    {
     "name": "stderr",
     "output_type": "stream",
     "text": [
      "100.0%"
     ]
    },
    {
     "name": "stdout",
     "output_type": "stream",
     "text": [
      "Extracting data/FashionMNIST/raw/t10k-labels-idx1-ubyte.gz to data/FashionMNIST/raw\n",
      "\n"
     ]
    },
    {
     "name": "stderr",
     "output_type": "stream",
     "text": [
      "\n"
     ]
    }
   ],
   "source": [
    "# Downloading the dataset\n",
    "train_data = datasets.FashionMNIST(\n",
    "    root=\"data\",\n",
    "    train=True,\n",
    "    download=True,\n",
    "    transform=ToTensor(),\n",
    ")\n",
    "\n",
    "test_data = datasets.FashionMNIST(\n",
    "    root='data',\n",
    "    train=False,\n",
    "    download=True,\n",
    "    transform=ToTensor()\n",
    ")"
   ]
  },
  {
   "cell_type": "code",
   "execution_count": 4,
   "metadata": {},
   "outputs": [
    {
     "data": {
      "text/plain": [
       "(torch.Size([1, 28, 28]), 9)"
      ]
     },
     "execution_count": 4,
     "metadata": {},
     "output_type": "execute_result"
    }
   ],
   "source": [
    "image, label = train_data[0]\n",
    "image.shape, label"
   ]
  },
  {
   "attachments": {},
   "cell_type": "markdown",
   "metadata": {},
   "source": [
    "From above output, 1 is number of color_channels (Its in grayscale) and other two dimensions are height and width."
   ]
  },
  {
   "cell_type": "code",
   "execution_count": 5,
   "metadata": {},
   "outputs": [
    {
     "data": {
      "text/plain": [
       "(60000, 10000)"
      ]
     },
     "execution_count": 5,
     "metadata": {},
     "output_type": "execute_result"
    }
   ],
   "source": [
    "len(train_data), len(test_data)"
   ]
  },
  {
   "cell_type": "code",
   "execution_count": 6,
   "metadata": {},
   "outputs": [
    {
     "data": {
      "text/plain": [
       "['T-shirt/top',\n",
       " 'Trouser',\n",
       " 'Pullover',\n",
       " 'Dress',\n",
       " 'Coat',\n",
       " 'Sandal',\n",
       " 'Shirt',\n",
       " 'Sneaker',\n",
       " 'Bag',\n",
       " 'Ankle boot']"
      ]
     },
     "execution_count": 6,
     "metadata": {},
     "output_type": "execute_result"
    }
   ],
   "source": [
    "class_names = train_data.classes\n",
    "class_names"
   ]
  },
  {
   "attachments": {},
   "cell_type": "markdown",
   "metadata": {},
   "source": [
    "10 classes. (Multiclass Classification)"
   ]
  },
  {
   "cell_type": "code",
   "execution_count": 7,
   "metadata": {},
   "outputs": [
    {
     "data": {
      "text/plain": [
       "<matplotlib.image.AxesImage at 0x7f077fb81120>"
      ]
     },
     "execution_count": 7,
     "metadata": {},
     "output_type": "execute_result"
    },
    {
     "data": {
      "image/png": "[encoded data removed]",
      "text/plain": [
       "<Figure size 640x480 with 1 Axes>"
      ]
     },
     "metadata": {},
     "output_type": "display_data"
    }
   ],
   "source": [
    "plt.imshow(image.squeeze())"
   ]
  },
  {
   "attachments": {},
   "cell_type": "markdown",
   "metadata": {},
   "source": [
    "But our dataset is in grayscale. So will convert to grayscale."
   ]
  },
  {
   "cell_type": "code",
   "execution_count": 8,
   "metadata": {},
   "outputs": [
    {
     "data": {
      "text/plain": [
       "Text(0.5, 1.0, 'Ankle boot')"
      ]
     },
     "execution_count": 8,
     "metadata": {},
     "output_type": "execute_result"
    },
    {
     "data": {
      "image/png": "[encoded data removed]",
      "text/plain": [
       "<Figure size 640x480 with 1 Axes>"
      ]
     },
     "metadata": {},
     "output_type": "display_data"
    }
   ],
   "source": [
    "plt.imshow(image.squeeze(), cmap='gray')\n",
    "plt.title(class_names[label])"
   ]
  },
  {
   "cell_type": "code",
   "execution_count": 9,
   "metadata": {},
   "outputs": [
    {
     "data": {
      "image/png": "[encoded data removed]",
      "text/plain": [
       "<Figure size 700x700 with 16 Axes>"
      ]
     },
     "metadata": {},
     "output_type": "display_data"
    }
   ],
   "source": [
    "#View more images\n",
    "fig = plt.figure(figsize=(7,7))\n",
    "rows, cols = 4,4\n",
    "for i in range(1, rows*cols + 1):\n",
    "    rand = torch.randint(0, len(train_data), size=[1]).item()\n",
    "    img, label = train_data[rand]\n",
    "    fig.add_subplot(rows, cols, i)\n",
    "    plt.title(class_names[label])\n",
    "    plt.imshow(img.squeeze(), cmap='gray')\n",
    "    plt.axis(False)"
   ]
  },
  {
   "attachments": {},
   "cell_type": "markdown",
   "metadata": {},
   "source": [
    "# Model Building"
   ]
  },
  {
   "attachments": {},
   "cell_type": "markdown",
   "metadata": {},
   "source": [
    "`DataLoader` is used to load the data to the model. It turn the dataset into a iterable of smaller data (batch size)."
   ]
  },
  {
   "cell_type": "code",
   "execution_count": 10,
   "metadata": {},
   "outputs": [
    {
     "data": {
      "text/plain": [
       "1875"
      ]
     },
     "execution_count": 10,
     "metadata": {},
     "output_type": "execute_result"
    }
   ],
   "source": [
    "BATCH_SIZE = 32\n",
    "\n",
    "train_dataloader = DataLoader(\n",
    "    train_data, \n",
    "    batch_size=BATCH_SIZE, \n",
    "    shuffle=True # This shuffles the data that way present batch is different from before batch\n",
    ")\n",
    "\n",
    "test_dataloader = DataLoader(\n",
    "    test_data,\n",
    "    batch_size = BATCH_SIZE #shuffle doesn't matter\n",
    ")\n",
    "len(train_dataloader)\n"
   ]
  },
  {
   "attachments": {},
   "cell_type": "markdown",
   "metadata": {},
   "source": [
    "1875*32 should be around `len(train_data)`"
   ]
  },
  {
   "cell_type": "code",
   "execution_count": 11,
   "metadata": {},
   "outputs": [],
   "source": [
    "class ModelOne(nn.Module):\n",
    "    def __init__(self, input_shape: int, hidden_shape: int, output_shape: int) -> None:\n",
    "        super().__init__()\n",
    "\n",
    "        self.layers = nn.Sequential(\n",
    "            nn.Flatten(), #Explnation in below markdown\n",
    "            nn.Linear(in_features=input_shape, out_features=hidden_shape),\n",
    "            nn.ReLU(),\n",
    "            nn.Linear(in_features=hidden_shape, out_features=output_shape),\n",
    "            nn.ReLU()\n",
    "        )\n",
    "    \n",
    "    def forward(self, X: torch.Tensor):\n",
    "        return self.layers(X)"
   ]
  },
  {
   "attachments": {},
   "cell_type": "markdown",
   "metadata": {},
   "source": [
    "`nn.Flatten` makes the input into a single dimnesion by multiplying all other leaving the first dimension. Ex: Our input image is (1,28,28). Flatten wi;; return (1, 28*28) i.e (1,784).\n",
    "\n",
    "As flatten outputs 784 as the second dim, `input_shape` = 784. `hidden_shape` is hyperprameter which represents number if nodes in each layer and `output_shape` is equal number of labels to be classified which in our case is 10 (len(class_names))."
   ]
  },
  {
   "cell_type": "code",
   "execution_count": 12,
   "metadata": {},
   "outputs": [
    {
     "data": {
      "text/plain": [
       "device(type='cuda', index=0)"
      ]
     },
     "execution_count": 12,
     "metadata": {},
     "output_type": "execute_result"
    }
   ],
   "source": [
    "model_1 = ModelOne(784, 10, len(class_names)).to(device) #Running on gpu if avail\n",
    "next(model_1.parameters()).device"
   ]
  },
  {
   "cell_type": "code",
   "execution_count": 13,
   "metadata": {},
   "outputs": [],
   "source": [
    "loss_fn = nn.CrossEntropyLoss()\n",
    "optimizer = torch.optim.SGD(params=model_1.parameters(), lr=0.1)\n",
    "accuracy = Accuracy(task='multiclass', num_classes=10).to(device)\n"
   ]
  },
  {
   "cell_type": "code",
   "execution_count": 14,
   "metadata": {},
   "outputs": [
    {
     "data": {
      "text/plain": [
       "device(type='cuda', index=0)"
      ]
     },
     "execution_count": 14,
     "metadata": {},
     "output_type": "execute_result"
    }
   ],
   "source": [
    "accuracy.device"
   ]
  },
  {
   "attachments": {},
   "cell_type": "markdown",
   "metadata": {},
   "source": [
    "Will write a common train and test functions we can reuse for later models"
   ]
  },
  {
   "cell_type": "code",
   "execution_count": 15,
   "metadata": {},
   "outputs": [],
   "source": [
    "def train_step(\n",
    "    model: torch.nn.Module,\n",
    "    data_loader: torch.utils.data.DataLoader,\n",
    "    loss_fn: torch.nn,\n",
    "    optimizer: torch.optim.Optimizer,\n",
    "    device: torch.device = device #Default is gpu if avail\n",
    "):\n",
    "    train_loss = 0\n",
    "    model.train() #Not mandatory as default is train\n",
    "    #Data_Loader outputs X and y in batches\n",
    "    for batch, (X_train,y_train) in enumerate(data_loader):\n",
    "        #Use gpu if avail\n",
    "        X_train, y_train = X_train.to(device), y_train.to(device)\n",
    "        #Forward\n",
    "        y_train_pred = model(X_train)\n",
    "        #Loss\n",
    "        loss = loss_fn(y_train_pred, y_train)\n",
    "        train_loss += loss\n",
    "        #backpropogation\n",
    "        loss.backward()\n",
    "        #Optimization\n",
    "        optimizer.step()\n",
    "        #Zero out the graidents\n",
    "        optimizer.zero_grad()\n",
    "        #Metric\n",
    "        #batch_acc = accuracy(y_train_pred.softmax(dim=1), y_train)\n",
    "        #print(f\"Accuracy of batch {batch} is {batch_acc} and loss is {loss}\")\n",
    "    #train_acc = accuracy.compute()\n",
    "    train_loss /= len(data_loader)\n",
    "    print(f\"Accuracy=and loss={train_loss}\")\n"
   ]
  },
  {
   "cell_type": "code",
   "execution_count": 16,
   "metadata": {},
   "outputs": [],
   "source": [
    "def test_step(\n",
    "    model: torch.nn.Module,\n",
    "    data_loader: torch.utils.data.DataLoader,\n",
    "    loss_fn: torch.nn,\n",
    "    device: torch.device = device\n",
    "):\n",
    "    test_loss = 0\n",
    "    model.eval()\n",
    "    with torch.inference_mode(): #Dont track derivates\n",
    "        for X_test,y_test in data_loader:\n",
    "            X_test, y_test = X_test.to(device), y_test.to(device)\n",
    "            #Forward\n",
    "            y_test_pred = model(X_test)\n",
    "            #loss\n",
    "            loss = loss_fn(y_test_pred, y_test)\n",
    "            #Metrics\n",
    "            test_loss += loss\n",
    "            #acc = accuracy(y_test_pred.softmax(dim=1), y_test)\n",
    "            \n",
    "        #test_acc = accuracy.compute()\n",
    "        test_loss /= len(data_loader)\n",
    "        print(f\"Accuracy= and loss={test_loss}\")"
   ]
  },
  {
   "attachments": {},
   "cell_type": "markdown",
   "metadata": {},
   "source": [
    "Training and testing `model_1`"
   ]
  },
  {
   "cell_type": "code",
   "execution_count": 17,
   "metadata": {},
   "outputs": [
    {
     "name": "stdout",
     "output_type": "stream",
     "text": [
      "Epoch0 Training\n",
      "Accuracy=and loss=1.0807701349258423\n",
      "Epoch0 Testing\n",
      "Accuracy= and loss=0.9499874114990234\n",
      "Epoch1 Training\n",
      "Accuracy=and loss=0.894907534122467\n",
      "Epoch1 Testing\n",
      "Accuracy= and loss=0.909721851348877\n",
      "Epoch2 Training\n",
      "Accuracy=and loss=0.864648163318634\n",
      "Epoch2 Testing\n",
      "Accuracy= and loss=0.8873313069343567\n"
     ]
    }
   ],
   "source": [
    "epochs = 3\n",
    "for epoch in range(epochs):\n",
    "    print(f\"Epoch{epoch} Training\")\n",
    "    train_step(\n",
    "        model_1,\n",
    "        train_dataloader,\n",
    "        loss_fn,\n",
    "        optimizer\n",
    "    )\n",
    "    print(f\"Epoch{epoch} Testing\")\n",
    "    test_step(\n",
    "        model_1,\n",
    "        test_dataloader,\n",
    "        loss_fn\n",
    "    )"
   ]
  },
  {
   "attachments": {},
   "cell_type": "markdown",
   "metadata": {},
   "source": [
    "## CNN model"
   ]
  },
  {
   "attachments": {},
   "cell_type": "markdown",
   "metadata": {},
   "source": [
    "Convolutional Neural Network have convolutional layers. In a fully connected layer, every node is connected to next layers node with some weight and bias. But in convolutional layer, only few neighbouring layers are connected to next layer nodes thus reducing the complexity and also giving sparse values in weight matrix. \n",
    " \n",
    "General Method:\n",
    "1. Convolutional Layer:\n",
    "    1. On the input image, a filter is convolved and this gives a matrix of convolution values in the dimension of `(n+1-m)*(n+1-m)` where nxn is image dimensions and mxm is filter. (If image is 3x32x32, filter is 3x6x6 then out=1x27x27).\n",
    "    2. We repeat this step with different number of filters to capture multiple patterns creating multiple `channels`. One channels might be looking for edges, other for circles, ..\n",
    "    3. Stacking all these convolution value matrices given a convolutional layer. (Say we have 64 filters/channels then conv layer = 27x27x**64**).\n",
    "2. There might be an activation function.\n",
    "2. As the conv layers are too big, we do pooling. Pooling reduces the dimension and can be interpreted as **This filter had a high response in this general region**. Popular pooling technique is `Max_Pooling` where the ouput has only the max value of a neighborhood. Its a pool of maximum values in their respective neighbourhoods. (Take one convoluted matrix of size 4x4, we apply a maxpool with 2x2 filter (a max value is considered for a 2x2 neighbourhood) and stride 2 (how many spaces to move the filter to get new neighbourhood), then the out = 2x2).\n",
    "3. This conv layer + activation func and pooling will be repeated based on the depth of architecture.\n",
    "3. The output matrix of values are flattened into a single vector of `(prod of dim) x 1`.\n",
    "4. There might be few fully connected layers later and then an activation function.  \n",
    "\n",
    "Depending on the architecture, number of layers (depth), number of nodes per layer (width) and respective weights and biases change.\n"
   ]
  },
  {
   "attachments": {},
   "cell_type": "markdown",
   "metadata": {},
   "source": [
    "Understanding Hyerparamters  (https://poloclub.github.io/cnn-explainer/)\n",
    "1. Kernel Size  \n",
    "    It is the size of the filter to be applied. It slides over the input cnvolving and giving convoluted image. Size of the kernel is inversely proportional to the depth of the layer. Generally small kernel learns more.\n",
    "2. Stride  \n",
    "    How to move the filter. Say if stride is 1 then filter is moved by 1 row/column (pixels). Impact of stride is similar to Kernel size lesser the size more the model learns.\n",
    "3. Padding  \n",
    "    If the some kernel size filter is moving by some stride, then there might be a chance at the image boundaries where the filter exceeds the boundaries with given stride. If padding isn't there, those boundary pizels are ignored. Padding preserves those pixels thereby completely learning about the input image. Extra pixels are created along the boundaries of the image and some value is given to those pixels (generally zero)."
   ]
  },
  {
   "attachments": {},
   "cell_type": "markdown",
   "metadata": {},
   "source": [
    "Lets create TinyVGG ((conv+relu+conv+relu+maxpool)*2)"
   ]
  },
  {
   "cell_type": "code",
   "execution_count": 18,
   "metadata": {},
   "outputs": [],
   "source": [
    "class ModelTwo(nn.Module):\n",
    "    def __init__(self, input_shape, hidden_units, output_shape) -> None:\n",
    "        super().__init__()\n",
    "        self.block1 = nn.Sequential(\n",
    "            nn.Conv2d(\n",
    "                in_channels = input_shape,\n",
    "                out_channels = hidden_units,\n",
    "                kernel_size=3,\n",
    "                stride=1,\n",
    "                padding=1\n",
    "            ), #dont forget comma\n",
    "            nn.ReLU(),\n",
    "            nn.Conv2d(\n",
    "                in_channels = hidden_units,\n",
    "                out_channels = hidden_units,\n",
    "                kernel_size=1,\n",
    "                stride=1,\n",
    "                padding=1\n",
    "            ),\n",
    "            nn.ReLU(),\n",
    "            nn.MaxPool2d(\n",
    "                kernel_size = 2,\n",
    "                stride = 2\n",
    "            )\n",
    "        )\n",
    "        \n",
    "        self.block2 = nn.Sequential(\n",
    "            nn.Conv2d(\n",
    "                hidden_units,\n",
    "                hidden_units,\n",
    "                3, #Kernel Size\n",
    "                padding = 1\n",
    "            ),\n",
    "            nn.ReLU(),\n",
    "            nn.Conv2d(hidden_units, hidden_units, 3, padding = 1),\n",
    "            nn.ReLU(),\n",
    "            nn.MaxPool2d(2) #stride default is value same as kernel size\n",
    "        )\n",
    "\n",
    "        self.classifier = nn.Sequential(\n",
    "            nn.Flatten(),\n",
    "            nn.Linear(\n",
    "                in_features=hidden_units*7*7, #Flatten multiplies all dim| 7*7 got by print in forward()\n",
    "                out_features = output_shape\n",
    "            )\n",
    "        )\n",
    "    \n",
    "    def forward(self, X: torch.Tensor):\n",
    "        X = self.block1(X)\n",
    "        X = self.block2(X)\n",
    "        print(X.shape)\n",
    "        X = self.classifier(X)\n",
    "        return X"
   ]
  },
  {
   "cell_type": "code",
   "execution_count": 19,
   "metadata": {},
   "outputs": [
    {
     "data": {
      "text/plain": [
       "ModelTwo(\n",
       "  (block1): Sequential(\n",
       "    (0): Conv2d(1, 10, kernel_size=(3, 3), stride=(1, 1), padding=(1, 1))\n",
       "    (1): ReLU()\n",
       "    (2): Conv2d(10, 10, kernel_size=(1, 1), stride=(1, 1), padding=(1, 1))\n",
       "    (3): ReLU()\n",
       "    (4): MaxPool2d(kernel_size=2, stride=2, padding=0, dilation=1, ceil_mode=False)\n",
       "  )\n",
       "  (block2): Sequential(\n",
       "    (0): Conv2d(10, 10, kernel_size=(3, 3), stride=(1, 1), padding=(1, 1))\n",
       "    (1): ReLU()\n",
       "    (2): Conv2d(10, 10, kernel_size=(3, 3), stride=(1, 1), padding=(1, 1))\n",
       "    (3): ReLU()\n",
       "    (4): MaxPool2d(kernel_size=2, stride=2, padding=0, dilation=1, ceil_mode=False)\n",
       "  )\n",
       "  (classifier): Sequential(\n",
       "    (0): Flatten(start_dim=1, end_dim=-1)\n",
       "    (1): Linear(in_features=490, out_features=10, bias=True)\n",
       "  )\n",
       ")"
      ]
     },
     "execution_count": 19,
     "metadata": {},
     "output_type": "execute_result"
    }
   ],
   "source": [
    "model_2 = ModelTwo(1,10,len(class_names)).to(device)\n",
    "model_2"
   ]
  },
  {
   "cell_type": "code",
   "execution_count": 20,
   "metadata": {},
   "outputs": [],
   "source": [
    "loss_fn = nn.CrossEntropyLoss\n",
    "optimizer = torch.optim.SGD(\n",
    "    params = model_2.parameters(),\n",
    "    lr = 0.1\n",
    ")"
   ]
  },
  {
   "cell_type": "code",
   "execution_count": 21,
   "metadata": {},
   "outputs": [
    {
     "ename": "",
     "evalue": "",
     "output_type": "error",
     "traceback": [
      "\u001b[1;31mCanceled future for execute_request message before replies were done"
     ]
    },
    {
     "ename": "",
     "evalue": "",
     "output_type": "error",
     "traceback": [
      "\u001b[1;31mThe Kernel crashed while executing code in the the current cell or a previous cell. Please review the code in the cell(s) to identify a possible cause of the failure. Click <a href='https://aka.ms/vscodeJupyterKernelCrash'>here</a> for more info. View Jupyter <a href='command:jupyter.viewOutput'>log</a> for further details."
     ]
    }
   ],
   "source": [
    "#Using train_step and test_step functions\n",
    "epochs = 3\n",
    "for epoch in range(epochs):\n",
    "    train_step(\n",
    "        model_2,\n",
    "        train_dataloader,\n",
    "        loss_fn,\n",
    "        optimizer\n",
    "    )\n",
    "print(\"Testing\")\n",
    "test_step(model_2,test_dataloader, loss_fn)"
   ]
  }
 ],
 "metadata": {
  "kernelspec": {
   "display_name": "pytorchenv",
   "language": "python",
   "name": "python3"
  },
  "language_info": {
   "codemirror_mode": {
    "name": "ipython",
    "version": 3
   },
   "file_extension": ".py",
   "mimetype": "text/x-python",
   "name": "python",
   "nbconvert_exporter": "python",
   "pygments_lexer": "ipython3",
   "version": "3.10.9"
  },
  "orig_nbformat": 4,
  "vscode": {
   "interpreter": {
    "hash": "f2d089c2975c42ca6a2c8a85e5fbcc3f1a504d0663f20350d46722cd554ff757"
   }
  }
 },
 "nbformat": 4,
 "nbformat_minor": 2
}
